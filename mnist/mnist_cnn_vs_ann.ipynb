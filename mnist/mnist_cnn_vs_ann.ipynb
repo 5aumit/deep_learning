{
  "nbformat": 4,
  "nbformat_minor": 0,
  "metadata": {
    "colab": {
      "name": "copy_mnist_cnn_vs_ann.ipynb",
      "provenance": [],
      "collapsed_sections": []
    },
    "kernelspec": {
      "name": "python3",
      "display_name": "Python 3"
    }
  },
  "cells": [
    {
      "cell_type": "code",
      "metadata": {
        "id": "GLwTVxJvF7RR"
      },
      "source": [
        "import numpy as np\n",
        "import tensorflow as tf\n",
        "from tensorflow.keras.models import Sequential\n",
        "from tensorflow.keras.layers import Dense, Dropout, Activation ,Flatten, Conv2D, MaxPooling2D\n",
        "import pickle\n",
        "import matplotlib.pyplot as plt\n",
        "\n",
        "%matplotlib inline"
      ],
      "execution_count": null,
      "outputs": []
    },
    {
      "cell_type": "code",
      "metadata": {
        "id": "pegB5N6pKNaP",
        "colab": {
          "base_uri": "https://localhost:8080/"
        },
        "outputId": "c1db2731-0e22-4e44-9d1b-d92d7a182bc4"
      },
      "source": [
        "mnist = tf.keras.datasets.mnist\n",
        "(x1,y_train),(x2,y_test) = mnist.load_data()\n",
        "\n",
        "x_train_ann , x_test_ann = x1/255.0 , x2/255.0\n",
        "x_train_cnn , x_test_cnn = np.expand_dims(x_train_ann , axis = -1) , np.expand_dims(x_test_ann , axis = -1)\n",
        "\n",
        "print(x_train_ann.shape, x_test_ann.shape)"
      ],
      "execution_count": null,
      "outputs": [
        {
          "output_type": "stream",
          "text": [
            "(60000, 28, 28) (10000, 28, 28)\n"
          ],
          "name": "stdout"
        }
      ]
    },
    {
      "cell_type": "markdown",
      "metadata": {
        "id": "O-aw0PMyXgH2"
      },
      "source": [
        "ANN Model"
      ]
    },
    {
      "cell_type": "code",
      "metadata": {
        "id": "ZtVObPYCwSUw"
      },
      "source": [
        "#ANN\n",
        "\n",
        "model_ann = tf.keras.models.Sequential()\n",
        "model_ann.add(tf.keras.layers.Flatten())\n",
        "model_ann.add(tf.keras.layers.Dense(64 , activation = tf.keras.activations.relu))\n",
        "model_ann.add(tf.keras.layers.Dense(64 , activation = tf.keras.activations.relu))\n",
        "model_ann.add(tf.keras.layers.Dense(10 , activation = tf.keras.activations.softmax))\n",
        "\n"
      ],
      "execution_count": null,
      "outputs": []
    },
    {
      "cell_type": "code",
      "metadata": {
        "id": "PYrjkrcAaxnf",
        "colab": {
          "base_uri": "https://localhost:8080/"
        },
        "outputId": "dda0cd51-7c06-4fc4-a580-99195245846f"
      },
      "source": [
        "model_ann.compile(optimizer = 'adam' ,\n",
        "             loss = 'sparse_categorical_crossentropy',\n",
        "             metrics = ['accuracy'])\n",
        "history_ann = model_ann.fit(x_train_ann,y_train,epochs=3, validation_data=(x_test_ann, y_test))"
      ],
      "execution_count": null,
      "outputs": [
        {
          "output_type": "stream",
          "text": [
            "Epoch 1/3\n",
            "1875/1875 [==============================] - 5s 2ms/step - loss: 0.4773 - accuracy: 0.8654 - val_loss: 0.1502 - val_accuracy: 0.9538\n",
            "Epoch 2/3\n",
            "1875/1875 [==============================] - 5s 2ms/step - loss: 0.1302 - accuracy: 0.9597 - val_loss: 0.1042 - val_accuracy: 0.9673\n",
            "Epoch 3/3\n",
            "1875/1875 [==============================] - 4s 2ms/step - loss: 0.0899 - accuracy: 0.9736 - val_loss: 0.0944 - val_accuracy: 0.9700\n"
          ],
          "name": "stdout"
        }
      ]
    },
    {
      "cell_type": "code",
      "metadata": {
        "id": "qO8NdMLK24kH"
      },
      "source": [
        "train_loss_ann = history_ann.history['loss']\n",
        "test_loss_ann = history_ann.history['val_loss']\n",
        "\n",
        "epoch_count_ann = range(1, len(train_loss_ann) + 1)"
      ],
      "execution_count": null,
      "outputs": []
    },
    {
      "cell_type": "code",
      "metadata": {
        "id": "oj6lif27I3n4",
        "colab": {
          "base_uri": "https://localhost:8080/",
          "height": 295
        },
        "outputId": "b64684eb-59e3-4032-8c95-69026cea943d"
      },
      "source": [
        "plt.plot(epoch_count_ann, train_loss_ann, 'r--')\n",
        "plt.plot(epoch_count_ann, test_loss_ann, 'b-')\n",
        "plt.legend(['Training Loss', 'Test Loss'])\n",
        "plt.xlabel('Epoch')\n",
        "plt.ylabel('Loss')\n",
        "plt.title('Loss during training')\n",
        "plt.show();"
      ],
      "execution_count": null,
      "outputs": [
        {
          "output_type": "display_data",
          "data": {
            "image/png": "[encoded data removed]",
            "text/plain": [
              "<Figure size 432x288 with 1 Axes>"
            ]
          },
          "metadata": {
            "tags": [],
            "needs_background": "light"
          }
        }
      ]
    },
    {
      "cell_type": "markdown",
      "metadata": {
        "id": "ANX_Xos3YGL-"
      },
      "source": [
        "CNN Model"
      ]
    },
    {
      "cell_type": "code",
      "metadata": {
        "id": "oMecFkX8YHNk"
      },
      "source": [
        "#CNN\n",
        "\n",
        "input = tf.keras.layers.Input(shape = (28 , 28 , 1))\n",
        "c = Conv2D(32 , (3,3) , padding = 'valid', activation= tf.nn.relu)(input)\n",
        "m = MaxPooling2D((2,2) , (2,2))(c)\n",
        "c1 = Conv2D(64 , (3,3) , padding = 'valid', activation= tf.nn.relu)(m)\n",
        "m1 = MaxPooling2D((2,2) , (2,2))(c1)\n",
        "f = Flatten()(m1)\n",
        "output = Dense(units = 10, activation= tf.nn.softmax)(f)"
      ],
      "execution_count": null,
      "outputs": []
    },
    {
      "cell_type": "code",
      "metadata": {
        "colab": {
          "base_uri": "https://localhost:8080/"
        },
        "id": "PmjjVV5yYMXO",
        "outputId": "02eaf8ec-ba24-47e0-bb1e-3c8782b69b60"
      },
      "source": [
        "model_cnn = tf.keras.models.Model(input , output)\n",
        "model_cnn.summary()\n",
        "model_cnn.compile(optimizer='adam',\n",
        "              loss = 'sparse_categorical_crossentropy',\n",
        "              metrics = ['accuracy'])"
      ],
      "execution_count": null,
      "outputs": [
        {
          "output_type": "stream",
          "text": [
            "Model: \"model_1\"\n",
            "_________________________________________________________________\n",
            "Layer (type)                 Output Shape              Param #   \n",
            "=================================================================\n",
            "input_2 (InputLayer)         [(None, 28, 28, 1)]       0         \n",
            "_________________________________________________________________\n",
            "conv2d_2 (Conv2D)            (None, 26, 26, 32)        320       \n",
            "_________________________________________________________________\n",
            "max_pooling2d_2 (MaxPooling2 (None, 13, 13, 32)        0         \n",
            "_________________________________________________________________\n",
            "conv2d_3 (Conv2D)            (None, 11, 11, 64)        18496     \n",
            "_________________________________________________________________\n",
            "max_pooling2d_3 (MaxPooling2 (None, 5, 5, 64)          0         \n",
            "_________________________________________________________________\n",
            "flatten_4 (Flatten)          (None, 1600)              0         \n",
            "_________________________________________________________________\n",
            "dense_10 (Dense)             (None, 10)                16010     \n",
            "=================================================================\n",
            "Total params: 34,826\n",
            "Trainable params: 34,826\n",
            "Non-trainable params: 0\n",
            "_________________________________________________________________\n"
          ],
          "name": "stdout"
        }
      ]
    },
    {
      "cell_type": "code",
      "metadata": {
        "colab": {
          "base_uri": "https://localhost:8080/"
        },
        "id": "VFjdph-5YRp6",
        "outputId": "e35e0334-93fd-4440-ea90-8be8653d8158"
      },
      "source": [
        "history_cnn = model_cnn.fit(x_train_cnn, y_train , epochs = 3)\n",
        "test_loss_cnn , test_accuracy_cnn = model_cnn.evaluate(x_test_cnn, y_test)\n",
        "print('Test Loss , Accuracy = ' , test_loss_cnn, test_accuracy_cnn)"
      ],
      "execution_count": null,
      "outputs": [
        {
          "output_type": "stream",
          "text": [
            "Epoch 1/3\n",
            "1875/1875 [==============================] - 54s 28ms/step - loss: 0.3601 - accuracy: 0.8911\n",
            "Epoch 2/3\n",
            "1875/1875 [==============================] - 52s 28ms/step - loss: 0.0577 - accuracy: 0.9820\n",
            "Epoch 3/3\n",
            "1875/1875 [==============================] - 52s 28ms/step - loss: 0.0395 - accuracy: 0.9874\n",
            "313/313 [==============================] - 3s 9ms/step - loss: 0.0323 - accuracy: 0.9892\n",
            "Test Loss , Accuracy =  0.03233589604496956 0.9891999959945679\n"
          ],
          "name": "stdout"
        }
      ]
    },
    {
      "cell_type": "code",
      "metadata": {
        "id": "z0OsH9FadZcx"
      },
      "source": [
        "import pandas as pd"
      ],
      "execution_count": null,
      "outputs": []
    },
    {
      "cell_type": "code",
      "metadata": {
        "id": "W1FBkFW_y7rY"
      },
      "source": [
        "ann_acc = history_ann.history['accuracy'][-1]\n",
        "cnn_acc = history_cnn.history['accuracy'][-1]\n",
        "ann_loss = history_ann.history['loss'][-1]\n",
        "cnn_loss = history_cnn.history['loss'][-1]\n",
        "\n",
        "results = pd.DataFrame(data = [[ann_acc , ann_loss] , [ cnn_acc , cnn_loss]] ,columns = ['Accuracy' , 'Loss'] , index = ['ANN' , 'CNN'])"
      ],
      "execution_count": null,
      "outputs": []
    },
    {
      "cell_type": "code",
      "metadata": {
        "colab": {
          "base_uri": "https://localhost:8080/",
          "height": 112
        },
        "id": "tTtSrFJzzPXg",
        "outputId": "86dae784-ad5d-42aa-828f-de106c9ebe34"
      },
      "source": [
        "results"
      ],
      "execution_count": null,
      "outputs": [
        {
          "output_type": "execute_result",
          "data": {
            "text/html": [
              "<div>\n",
              "<style scoped>\n",
              "    .dataframe tbody tr th:only-of-type {\n",
              "        vertical-align: middle;\n",
              "    }\n",
              "\n",
              "    .dataframe tbody tr th {\n",
              "        vertical-align: top;\n",
              "    }\n",
              "\n",
              "    .dataframe thead th {\n",
              "        text-align: right;\n",
              "    }\n",
              "</style>\n",
              "<table border=\"1\" class=\"dataframe\">\n",
              "  <thead>\n",
              "    <tr style=\"text-align: right;\">\n",
              "      <th></th>\n",
              "      <th>Accuracy</th>\n",
              "      <th>Loss</th>\n",
              "    </tr>\n",
              "  </thead>\n",
              "  <tbody>\n",
              "    <tr>\n",
              "      <th>ANN</th>\n",
              "      <td>0.973233</td>\n",
              "      <td>0.089166</td>\n",
              "    </tr>\n",
              "    <tr>\n",
              "      <th>CNN</th>\n",
              "      <td>0.987650</td>\n",
              "      <td>0.039261</td>\n",
              "    </tr>\n",
              "  </tbody>\n",
              "</table>\n",
              "</div>"
            ],
            "text/plain": [
              "     Accuracy      Loss\n",
              "ANN  0.973233  0.089166\n",
              "CNN  0.987650  0.039261"
            ]
          },
          "metadata": {
            "tags": []
          },
          "execution_count": 60
        }
      ]
    },
    {
      "cell_type": "markdown",
      "metadata": {
        "id": "BR6utmP_0I03"
      },
      "source": [
        "Hence CNN has more accuracy and less loss compared to ANN."
      ]
    },
    {
      "cell_type": "code",
      "metadata": {
        "id": "gwQjCscU0VYE"
      },
      "source": [
        ""
      ],
      "execution_count": null,
      "outputs": []
    }
  ]
}